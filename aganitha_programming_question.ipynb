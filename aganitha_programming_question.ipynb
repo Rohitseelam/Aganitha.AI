{
 "cells": [
  {
   "cell_type": "code",
   "execution_count": 18,
   "metadata": {},
   "outputs": [],
   "source": [
    "# Global Dictionary\n",
    "\n",
    "mapping_dict = \\\n",
    "{\n",
    "    'A':'A','B':'B','C':'C','D':'D','E':'E','F':'F','M':'M',\n",
    "    'one':1,'two':2,'three':3,'four':4,'five':5,'six':6,'seven':7,'eight':8,'nine':9,\n",
    "    'dollars': '$',\n",
    "    'single':['',1],'double':['',2],'triple':['',3]\n",
    "}"
   ]
  },
  {
   "cell_type": "code",
   "execution_count": 19,
   "metadata": {},
   "outputs": [],
   "source": [
    "def convert(Input):\n",
    "    \n",
    "    input_words = Input.split()    \n",
    "    output = \"\"\n",
    "    quantity = 0\n",
    "    \n",
    "    key_words = list(general_reference_dict.keys())\n",
    "    \n",
    "    for word in input_words:\n",
    "        \n",
    "        if word in key_words:\n",
    "            output_word = mapping_dict[word]\n",
    "            \n",
    "            if(type(output_word) != list):\n",
    "                output += str(output_word)\n",
    "            \n",
    "            else:\n",
    "                quantity = output_word[1]\n",
    "                \n",
    "    if quantity!=0:\n",
    "         output = output*quantity\n",
    "        \n",
    "    return output"
   ]
  },
  {
   "cell_type": "code",
   "execution_count": 21,
   "metadata": {},
   "outputs": [
    {
     "name": "stdout",
     "output_type": "stream",
     "text": [
      "two dollars --------------- 2$\n",
      "C M --------------- CM\n",
      "triple A --------------- AAA\n"
     ]
    }
   ],
   "source": [
    "inputs = ['two dollars','C M','triple A']\n",
    "\n",
    "for Input in inputs:\n",
    "    output = convert(Input)\n",
    "    print(Input +' --------------- '+output)"
   ]
  }
 ],
 "metadata": {
  "kernelspec": {
   "display_name": "Python 3",
   "language": "python",
   "name": "python3"
  },
  "language_info": {
   "codemirror_mode": {
    "name": "ipython",
    "version": 3
   },
   "file_extension": ".py",
   "mimetype": "text/x-python",
   "name": "python",
   "nbconvert_exporter": "python",
   "pygments_lexer": "ipython3",
   "version": "3.8.3"
  }
 },
 "nbformat": 4,
 "nbformat_minor": 4
}
